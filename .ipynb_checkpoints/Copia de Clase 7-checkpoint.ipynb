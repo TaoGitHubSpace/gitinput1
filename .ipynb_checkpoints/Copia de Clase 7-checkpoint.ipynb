{
 "cells": [
  {
   "cell_type": "markdown",
   "metadata": {},
   "source": [
    "## input"
   ]
  },
  {
   "cell_type": "code",
   "execution_count": 1,
   "metadata": {},
   "outputs": [],
   "source": [
    "# input es una función que nos permite recoger datos, mediante la interacción entre el usuario y el sistema/programa\n",
    "# El sistema ejecuta el programa y realiza una pausa hasta que un dato externo sea ingresado y poder continuar con\n",
    "# el resto del programa."
   ]
  },
  {
   "cell_type": "code",
   "execution_count": 2,
   "metadata": {},
   "outputs": [
    {
     "name": "stdout",
     "output_type": "stream",
     "text": [
      "ingresar datosa\n"
     ]
    }
   ],
   "source": [
    "# Su estructura:\n",
    "# Se define y asigna una variable donde va a ser almacenada ej: varT=\n",
    "# Se llama a la función ej:  input()\n",
    "# Opcional, Se ingresar el texto o mensaje para que el usuario realice la acción ej:  \"ingresar datos\"\n",
    "    # Se debe tener en cuenta que el mensaje ingresado es un texto y por ello necesita siempre las comillas\"\"\n",
    "# Opcional, se define el método de almacenaje del dato solicitado\n",
    "    # Si no se define, el almacenará los datos en un str con las caracteristicas exactas que el usuario haya usado\n",
    "varT=input(\"ingresar datos\").upper()\n",
    "# Para el ejemplo se ingresa la letra a"
   ]
  },
  {
   "cell_type": "code",
   "execution_count": 3,
   "metadata": {},
   "outputs": [
    {
     "name": "stdout",
     "output_type": "stream",
     "text": [
      "ingresar datos\n",
      "a\n"
     ]
    }
   ],
   "source": [
    "# El sistema muestra el dato ingresado inmediatamente después del texto de interacción con el usuario, para evitarlo\n",
    "# No se ingresa texto en la función, se imprime previamente\n",
    "print(\"ingresar datos\")\n",
    "var1=input().upper()"
   ]
  },
  {
   "cell_type": "code",
   "execution_count": 4,
   "metadata": {},
   "outputs": [
    {
     "name": "stdout",
     "output_type": "stream",
     "text": [
      "la variable varT es:  A\n",
      "la variable var1 es:  A\n"
     ]
    }
   ],
   "source": [
    "# En ambos casos la variable almacena los datos exitosamente\n",
    "print(\"la variable varT es: \",varT),\n",
    "print(\"la variable var1 es: \",var1)"
   ]
  },
  {
   "cell_type": "code",
   "execution_count": 5,
   "metadata": {},
   "outputs": [
    {
     "name": "stdout",
     "output_type": "stream",
     "text": [
      "ingresar datos\n",
      "a\n"
     ]
    }
   ],
   "source": [
    "# También podemos usar \\n para que imprimia en una línea diferente usamos (\\n)\n",
    "varT=input(\"ingresar datos\\n\").upper()"
   ]
  },
  {
   "cell_type": "code",
   "execution_count": 6,
   "metadata": {},
   "outputs": [
    {
     "name": "stdout",
     "output_type": "stream",
     "text": [
      "ingresar datos\n",
      "1\n",
      "<class 'str'>\n"
     ]
    }
   ],
   "source": [
    "# Los datos almacenados através de la función input siempre van a ser string, por lo tanto dependiendo de la función\n",
    "# es necesario indicar al sistema como usar el dato recien recibido.\n",
    "var=input(\"ingresar datos\\n\").upper()\n",
    "print(type(var))"
   ]
  },
  {
   "cell_type": "code",
   "execution_count": 7,
   "metadata": {},
   "outputs": [
    {
     "name": "stdout",
     "output_type": "stream",
     "text": [
      "<class 'int'>\n",
      "1\n"
     ]
    }
   ],
   "source": [
    "# si deseamos usar un número como número y no como string, debemos modificar el tipo de dato\n",
    "var=int(var)\n",
    "print(type(var)),\n",
    "print(var)"
   ]
  },
  {
   "cell_type": "code",
   "execution_count": 8,
   "metadata": {},
   "outputs": [
    {
     "name": "stdout",
     "output_type": "stream",
     "text": [
      "2\n"
     ]
    }
   ],
   "source": [
    "# Para darle uso al dato ingresado por el susuari solo es necesario llamar a la variable\n",
    "if var >=0:\n",
    "    var +=1\n",
    "else:\n",
    "    var +=2\n",
    "print(var)"
   ]
  },
  {
   "cell_type": "code",
   "execution_count": 9,
   "metadata": {},
   "outputs": [
    {
     "name": "stdout",
     "output_type": "stream",
     "text": [
      "la letra ingresada NO es a\n"
     ]
    }
   ],
   "source": [
    "# Evaluando datos str\n",
    "if varT ==\"a\":\n",
    "    print(\"la letra ingresada es a\")\n",
    "else:\n",
    "    print(\"la letra ingresada NO es a\")"
   ]
  },
  {
   "cell_type": "code",
   "execution_count": 10,
   "metadata": {},
   "outputs": [
    {
     "name": "stdout",
     "output_type": "stream",
     "text": [
      "la letra ingresada es a\n"
     ]
    }
   ],
   "source": [
    "# Al evaluar la letra tenemos que recordar el metodo de almacenaje que elegimos para el ejemplo fue ej:  .upper()\n",
    "# Por eso no la reconoce, aunque digitemos en minúsculas el sistema lo guarda en mayúsculas, su opuesto es .lower()\n",
    "if varT ==\"A\":\n",
    "    print(\"la letra ingresada es a\")\n",
    "else:\n",
    "    print(\"la letra ingresada NO es a\")"
   ]
  },
  {
   "cell_type": "code",
   "execution_count": 11,
   "metadata": {},
   "outputs": [
    {
     "name": "stdout",
     "output_type": "stream",
     "text": [
      "ingresa un número entero:\n",
      "1\n",
      "ingresa un número entero para sumar a  1 \n",
      "\n",
      "2\n",
      "la suma entre  1 y  2 es igual 3\n"
     ]
    }
   ],
   "source": [
    "Val1=input(\"ingresa un número entero:\\n\")\n",
    "Val1=int(Val1)\n",
    "print(\"ingresa un número entero para sumar a \", Val1, \"\\n\")\n",
    "Val2=input()\n",
    "Val2=int(Val2)\n",
    "print(\"la suma entre \", Val1, \"y \", Val2, \"es igual\", Val1+Val2)"
   ]
  },
  {
   "cell_type": "code",
   "execution_count": null,
   "metadata": {},
   "outputs": [],
   "source": []
  }
 ],
 "metadata": {
  "kernelspec": {
   "display_name": "Python 3",
   "language": "python",
   "name": "python3"
  },
  "language_info": {
   "codemirror_mode": {
    "name": "ipython",
    "version": 3
   },
   "file_extension": ".py",
   "mimetype": "text/x-python",
   "name": "python",
   "nbconvert_exporter": "python",
   "pygments_lexer": "ipython3",
   "version": "3.7.6"
  }
 },
 "nbformat": 4,
 "nbformat_minor": 4
}
